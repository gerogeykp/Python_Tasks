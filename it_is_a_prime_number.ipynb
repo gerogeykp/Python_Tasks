{
  "nbformat": 4,
  "nbformat_minor": 0,
  "metadata": {
    "colab": {
      "name": "it is a prime number.ipynb",
      "provenance": [],
      "authorship_tag": "ABX9TyMk/wJOQgzT2BBxRdXTLQ/k",
      "include_colab_link": true
    },
    "kernelspec": {
      "name": "python3",
      "display_name": "Python 3"
    },
    "language_info": {
      "name": "python"
    }
  },
  "cells": [
    {
      "cell_type": "markdown",
      "metadata": {
        "id": "view-in-github",
        "colab_type": "text"
      },
      "source": [
        "<a href=\"https://colab.research.google.com/github/gerogeykp/Python_Tasks/blob/main/it_is_a_prime_number.ipynb\" target=\"_parent\"><img src=\"https://colab.research.google.com/assets/colab-badge.svg\" alt=\"Open In Colab\"/></a>"
      ]
    },
    {
      "cell_type": "code",
      "metadata": {
        "colab": {
          "base_uri": "https://localhost:8080/"
        },
        "id": "PSogzlfaPbNs",
        "outputId": "08523ab9-c01c-42b3-89cc-21e249196471"
      },
      "source": [
        "n = int(input('Enter a number to check if it is a prime number'))\n",
        "count = 0\n",
        "for i in range(1 ,n+1) :\n",
        "    if not n % i :\n",
        "        count += 1\n",
        "if (n == 0) or (n == 1) or (count >= 3) :\n",
        "    print(n, 'is not a prime number')\n",
        "else :\n",
        "    print(n, 'is a prime number')"
      ],
      "execution_count": 6,
      "outputs": [
        {
          "output_type": "stream",
          "text": [
            "Enter a number to check if it is a prime number0\n",
            "0 is not a prime number\n"
          ],
          "name": "stdout"
        }
      ]
    }
  ]
}