{
  "nbformat": 4,
  "nbformat_minor": 0,
  "metadata": {
    "colab": {
      "name": "it is a prime number.ipynb",
      "provenance": [],
      "authorship_tag": "ABX9TyMf1LAKe6A4yYX1bCo4ngt/",
      "include_colab_link": true
    },
    "kernelspec": {
      "name": "python3",
      "display_name": "Python 3"
    },
    "language_info": {
      "name": "python"
    }
  },
  "cells": [
    {
      "cell_type": "markdown",
      "metadata": {
        "id": "view-in-github",
        "colab_type": "text"
      },
      "source": [
        "<a href=\"https://colab.research.google.com/github/gerogeykp/Python_Tasks/blob/main/it_is_a_prime_number.ipynb\" target=\"_parent\"><img src=\"https://colab.research.google.com/assets/colab-badge.svg\" alt=\"Open In Colab\"/></a>"
      ]
    },
    {
      "cell_type": "code",
      "metadata": {
        "colab": {
          "base_uri": "https://localhost:8080/"
        },
        "id": "PSogzlfaPbNs",
        "outputId": "b114ef90-6dac-4d31-a342-a32ab9deadaf"
      },
      "source": [
        "n = int(input('Enter a number to check if it is a prime number '))\n",
        "count = 0\n",
        "if (n == 0) or (n == 1):\n",
        "  print(n, 'is not a prime number')\n",
        "if n > 1:\n",
        "    for i in range(2 ,n):\n",
        "      if n % i == 0 :\n",
        "        count += 1\n",
        "    if count >= 1 :\n",
        "      print(n, 'is not a prime number')\n",
        "    else :\n",
        "        print(n, 'is a prime number')\n",
        "      "
      ],
      "execution_count": 19,
      "outputs": [
        {
          "output_type": "stream",
          "text": [
            "Enter a number to check if it is a prime number 23\n",
            "23 is a prime number\n"
          ],
          "name": "stdout"
        }
      ]
    }
  ]
}