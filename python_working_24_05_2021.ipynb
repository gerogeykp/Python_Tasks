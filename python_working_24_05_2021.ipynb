{
  "nbformat": 4,
  "nbformat_minor": 0,
  "metadata": {
    "accelerator": "GPU",
    "colab": {
      "name": "python_working_24_05_2021",
      "provenance": [],
      "collapsed_sections": [],
      "toc_visible": true,
      "include_colab_link": true
    },
    "kernelspec": {
      "display_name": "Python 3",
      "name": "python3"
    }
  },
  "cells": [
    {
      "cell_type": "markdown",
      "metadata": {
        "id": "view-in-github",
        "colab_type": "text"
      },
      "source": [
        "<a href=\"https://colab.research.google.com/github/gerogeykp/Python_Tasks/blob/main/python_working_24_05_2021.ipynb\" target=\"_parent\"><img src=\"https://colab.research.google.com/assets/colab-badge.svg\" alt=\"Open In Colab\"/></a>"
      ]
    },
    {
      "cell_type": "code",
      "metadata": {
        "id": "szyvG5wAP1DS",
        "colab": {
          "base_uri": "https://localhost:8080/"
        },
        "outputId": "30ceec4f-4e6d-4d5f-8105-8dc6f6df1fb8"
      },
      "source": [
        "a = list(\"asdfghjklş\")\n",
        "front = a.pop(0)\n",
        "back = a.pop(-1)\n",
        "a.insert(0,back)\n",
        "a.append(front) \n",
        "print(\"\".join(a))"
      ],
      "execution_count": 5,
      "outputs": [
        {
          "output_type": "stream",
          "text": [
            "şsdfghjkla\n"
          ],
          "name": "stdout"
        }
      ]
    },
    {
      "cell_type": "code",
      "metadata": {
        "colab": {
          "base_uri": "https://localhost:8080/"
        },
        "id": "ERMv2SfDaDHY",
        "outputId": "8ee41762-6e83-4f73-a1ee-1c7c698665cc"
      },
      "source": [
        "a = list(\"mada!m\")\n",
        "not_alnum={}\n",
        "for i in a:\n",
        "    if not i.isalnum():\n",
        "        x=a.index(i)\n",
        "        not_alnum[x]=i\n",
        "        a.remove(i)\n",
        "r=list(reversed(a))\n",
        "print(r)    \n",
        "if a == r:\n",
        "  print(\"paneram sentence\")        \n",
        "print(not_alnum,a)\n",
        "for i in not_alnum:\n",
        "  r.insert(i,not_alnum[i])\n",
        "print(r)  "
      ],
      "execution_count": 21,
      "outputs": [
        {
          "output_type": "stream",
          "text": [
            "['m', 'a', 'd', 'a', 'm']\n",
            "paneram sentence\n",
            "{4: '!'} ['m', 'a', 'd', 'a', 'm']\n",
            "['m', 'a', 'd', 'a', '!', 'm']\n"
          ],
          "name": "stdout"
        }
      ]
    }
  ]
}