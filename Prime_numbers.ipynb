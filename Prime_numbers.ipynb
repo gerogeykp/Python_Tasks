{
  "nbformat": 4,
  "nbformat_minor": 0,
  "metadata": {
    "colab": {
      "name": "Colaboratory'ye Hoş Geldiniz",
      "provenance": [],
      "collapsed_sections": [],
      "include_colab_link": true
    },
    "kernelspec": {
      "display_name": "Python 3",
      "name": "python3"
    }
  },
  "cells": [
    {
      "cell_type": "markdown",
      "metadata": {
        "id": "view-in-github",
        "colab_type": "text"
      },
      "source": [
        "<a href=\"https://colab.research.google.com/github/gerogeykp/Python_Tasks/blob/main/Prime_numbers.ipynb\" target=\"_parent\"><img src=\"https://colab.research.google.com/assets/colab-badge.svg\" alt=\"Open In Colab\"/></a>"
      ]
    },
    {
      "cell_type": "code",
      "metadata": {
        "colab": {
          "base_uri": "https://localhost:8080/"
        },
        "id": "SlY-2yVQRgVw",
        "outputId": "5228d89f-ec55-44d6-b763-7b9e61175ce2"
      },
      "source": [
        "x = int(input(\"insert a number, i'll check prime numbers: \"))\n",
        "prime =[]\n",
        "not_prime=[]\n",
        "count = 0\n",
        "for i in range(2,x+1):\n",
        "  for j in range(2,i):\n",
        "    if i%j==0:\n",
        "      count+=1\n",
        "  if count >0:\n",
        "    not_prime.append(i)\n",
        "    count =0\n",
        "  else:\n",
        "    prime.append(i)      \n",
        "print(\"prime numbers\",prime)\n",
        "print(\"not_prime_numbers\", not_prime)      \n",
        "\n",
        "\n"
      ],
      "execution_count": 60,
      "outputs": [
        {
          "output_type": "stream",
          "text": [
            "insert a number, i'll check prime numbers: 100\n",
            "prime numbers [2, 3, 5, 7, 11, 13, 17, 19, 23, 29, 31, 37, 41, 43, 47, 53, 59, 61, 67, 71, 73, 79, 83, 89, 97]\n",
            "not_prime_numbers [4, 6, 8, 9, 10, 12, 14, 15, 16, 18, 20, 21, 22, 24, 25, 26, 27, 28, 30, 32, 33, 34, 35, 36, 38, 39, 40, 42, 44, 45, 46, 48, 49, 50, 51, 52, 54, 55, 56, 57, 58, 60, 62, 63, 64, 65, 66, 68, 69, 70, 72, 74, 75, 76, 77, 78, 80, 81, 82, 84, 85, 86, 87, 88, 90, 91, 92, 93, 94, 95, 96, 98, 99, 100]\n"
          ],
          "name": "stdout"
        }
      ]
    }
  ]
}