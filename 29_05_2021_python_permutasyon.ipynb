{
  "nbformat": 4,
  "nbformat_minor": 0,
  "metadata": {
    "colab": {
      "name": "29_05_2021_python_permutasyon.ipynb",
      "provenance": [],
      "collapsed_sections": [],
      "authorship_tag": "ABX9TyP6MJ9zdXZr/6QkB29l1TW3",
      "include_colab_link": true
    },
    "kernelspec": {
      "name": "python3",
      "display_name": "Python 3"
    },
    "language_info": {
      "name": "python"
    }
  },
  "cells": [
    {
      "cell_type": "markdown",
      "metadata": {
        "id": "view-in-github",
        "colab_type": "text"
      },
      "source": [
        "<a href=\"https://colab.research.google.com/github/gerogeykp/Python_Tasks/blob/main/29_05_2021_python_permutasyon.ipynb\" target=\"_parent\"><img src=\"https://colab.research.google.com/assets/colab-badge.svg\" alt=\"Open In Colab\"/></a>"
      ]
    },
    {
      "cell_type": "code",
      "metadata": {
        "colab": {
          "base_uri": "https://localhost:8080/"
        },
        "id": "MHyl9WWdJiUs",
        "outputId": "533af9ba-0ecd-4a4f-f2fd-0476236e5e21"
      },
      "source": [
        "solution = [[]]\n",
        "num = [1,2,3]  # bu listenin permütasyonunu (her ihtimalini) yazdırmamız isteniyor\n",
        "num_set = set(num)\n",
        "for index in range(len(num)):\n",
        "    solution = [i + [j] for i in solution for j in num_set.difference(set(i))]\n",
        "    print(solution)\n",
        "print(solution)    "
      ],
      "execution_count": 3,
      "outputs": [
        {
          "output_type": "stream",
          "text": [
            "[[1], [2], [3]]\n",
            "[[1, 2], [1, 3], [2, 1], [2, 3], [3, 1], [3, 2]]\n",
            "[[1, 2, 3], [1, 3, 2], [2, 1, 3], [2, 3, 1], [3, 1, 2], [3, 2, 1]]\n",
            "[[1, 2, 3], [1, 3, 2], [2, 1, 3], [2, 3, 1], [3, 1, 2], [3, 2, 1]]\n"
          ],
          "name": "stdout"
        }
      ]
    },
    {
      "cell_type": "code",
      "metadata": {
        "id": "BOuRlVQUeJb2"
      },
      "source": [
        "solution = [[]]\n",
        "num = [1,2,3]  # bu listenin permütasyonunu (her ihtimalini) yazdırmamız isteniyor\n",
        "num_set = set(num)\n",
        "for index in range(len(num)) :  # num eleman sayısı kadar iterate et (yani 3 kere)\n",
        "  solution = [i + [j] for i in solution for j in num_set.difference(set(i))]  \n",
        "  print(solution)  # her iterasyon çıktısı\n",
        "solution   # istenen sonuç"
      ],
      "execution_count": null,
      "outputs": []
    },
    {
      "cell_type": "code",
      "metadata": {
        "colab": {
          "base_uri": "https://localhost:8080/"
        },
        "id": "PdBPBjwiozja",
        "outputId": "f6d801d7-250b-4f50-8398-fe96c2b40d6e"
      },
      "source": [
        "equall = lambda x,y,z : [x,y,z].count(max([x,y,z], key=[x,y,z].count))\n",
        "equall(11,2,2)"
      ],
      "execution_count": 5,
      "outputs": [
        {
          "output_type": "execute_result",
          "data": {
            "text/plain": [
              "2"
            ]
          },
          "metadata": {
            "tags": []
          },
          "execution_count": 5
        }
      ]
    }
  ]
}