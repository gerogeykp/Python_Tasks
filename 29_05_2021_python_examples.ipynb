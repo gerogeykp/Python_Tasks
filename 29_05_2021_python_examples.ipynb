{
  "nbformat": 4,
  "nbformat_minor": 0,
  "metadata": {
    "colab": {
      "name": "29_05_2021_python_examples.ipynb",
      "provenance": [],
      "collapsed_sections": [],
      "authorship_tag": "ABX9TyMGVJl5YiQax3YJ2aGqrtst",
      "include_colab_link": true
    },
    "kernelspec": {
      "name": "python3",
      "display_name": "Python 3"
    },
    "language_info": {
      "name": "python"
    }
  },
  "cells": [
    {
      "cell_type": "markdown",
      "metadata": {
        "id": "view-in-github",
        "colab_type": "text"
      },
      "source": [
        "<a href=\"https://colab.research.google.com/github/gerogeykp/Python_Tasks/blob/main/29_05_2021_python_examples.ipynb\" target=\"_parent\"><img src=\"https://colab.research.google.com/assets/colab-badge.svg\" alt=\"Open In Colab\"/></a>"
      ]
    },
    {
      "cell_type": "code",
      "metadata": {
        "colab": {
          "base_uri": "https://localhost:8080/"
        },
        "id": "MHyl9WWdJiUs",
        "outputId": "533af9ba-0ecd-4a4f-f2fd-0476236e5e21"
      },
      "source": [
        "solution = [[]]\n",
        "num = [1,2,3]  # bu listenin permütasyonunu (her ihtimalini) yazdırmamız isteniyor\n",
        "num_set = set(num)\n",
        "for index in range(len(num)):\n",
        "    solution = [i + [j] for i in solution for j in num_set.difference(set(i))]\n",
        "    print(solution)\n",
        "print(solution)    "
      ],
      "execution_count": null,
      "outputs": [
        {
          "output_type": "stream",
          "text": [
            "[[1], [2], [3]]\n",
            "[[1, 2], [1, 3], [2, 1], [2, 3], [3, 1], [3, 2]]\n",
            "[[1, 2, 3], [1, 3, 2], [2, 1, 3], [2, 3, 1], [3, 1, 2], [3, 2, 1]]\n",
            "[[1, 2, 3], [1, 3, 2], [2, 1, 3], [2, 3, 1], [3, 1, 2], [3, 2, 1]]\n"
          ],
          "name": "stdout"
        }
      ]
    },
    {
      "cell_type": "code",
      "metadata": {
        "id": "BOuRlVQUeJb2"
      },
      "source": [
        "solution = [[]]\n",
        "num = [1,2,3]  # bu listenin permütasyonunu (her ihtimalini) yazdırmamız isteniyor\n",
        "num_set = set(num)\n",
        "for index in range(len(num)) :  # num eleman sayısı kadar iterate et (yani 3 kere)\n",
        "  solution = [i + [j] for i in solution for j in num_set.difference(set(i))]  \n",
        "  print(solution)  # her iterasyon çıktısı\n",
        "solution   # istenen sonuç"
      ],
      "execution_count": null,
      "outputs": []
    },
    {
      "cell_type": "code",
      "metadata": {
        "colab": {
          "base_uri": "https://localhost:8080/"
        },
        "id": "PdBPBjwiozja",
        "outputId": "f6d801d7-250b-4f50-8398-fe96c2b40d6e"
      },
      "source": [
        "equall = lambda x,y,z : [x,y,z].count(max([x,y,z], key=[x,y,z].count))\n",
        "equall(11,2,2)"
      ],
      "execution_count": null,
      "outputs": [
        {
          "output_type": "execute_result",
          "data": {
            "text/plain": [
              "2"
            ]
          },
          "metadata": {
            "tags": []
          },
          "execution_count": 5
        }
      ]
    },
    {
      "cell_type": "code",
      "metadata": {
        "colab": {
          "base_uri": "https://localhost:8080/"
        },
        "id": "qOvuxMi_UyFz",
        "outputId": "15144e40-a201-4c0a-c8a7-e9abc8517541"
      },
      "source": [
        "def my_fact(n):\n",
        "    if n==1:\n",
        "        return 1\n",
        "    return n * my_fact(n-1) \n",
        "my_fact(5)"
      ],
      "execution_count": 4,
      "outputs": [
        {
          "output_type": "execute_result",
          "data": {
            "text/plain": [
              "120"
            ]
          },
          "metadata": {
            "tags": []
          },
          "execution_count": 4
        }
      ]
    },
    {
      "cell_type": "code",
      "metadata": {
        "colab": {
          "base_uri": "https://localhost:8080/",
          "height": 35
        },
        "id": "ODYcMW1VWQZh",
        "outputId": "350649c3-5072-4622-c357-46bb0557ddbf"
      },
      "source": [
        "def front_back(word):\n",
        "    fron_bak = []\n",
        "    if len(word)>1:\n",
        "      fron_bak.append(word[-1])\n",
        "      fron_bak.append(word[1:-1])\n",
        "      fron_bak.append(word[0])\n",
        "      return \"\".join(fron_bak)\n",
        "    else:\n",
        "      return word \n",
        "      return fron_bak\n",
        "front_back(\"a\")     "
      ],
      "execution_count": 8,
      "outputs": [
        {
          "output_type": "execute_result",
          "data": {
            "application/vnd.google.colaboratory.intrinsic+json": {
              "type": "string"
            },
            "text/plain": [
              "'a'"
            ]
          },
          "metadata": {
            "tags": []
          },
          "execution_count": 8
        }
      ]
    },
    {
      "cell_type": "code",
      "metadata": {
        "colab": {
          "base_uri": "https://localhost:8080/"
        },
        "id": "HM3zUqBUQ3X6",
        "outputId": "27798b3c-27ea-4994-e4fe-fc3eb2392355"
      },
      "source": [
        "def my_min(*a):\n",
        "  return min(a)\n",
        "my_min(1,2,3,4,6,7,8,4,5,4,4,4,4,4,4)    "
      ],
      "execution_count": 14,
      "outputs": [
        {
          "output_type": "execute_result",
          "data": {
            "text/plain": [
              "1"
            ]
          },
          "metadata": {
            "tags": []
          },
          "execution_count": 14
        }
      ]
    },
    {
      "cell_type": "code",
      "metadata": {
        "colab": {
          "base_uri": "https://localhost:8080/"
        },
        "id": "W9hrDRGhR_qf",
        "outputId": "5474bb00-25dc-4965-df19-a572998f59c9"
      },
      "source": [
        "def my_sum(*a):\n",
        "  return sum(a)\n",
        "my_sum(1,2,3,4,6,7,8,4,5,4,4,4,4,4,4)"
      ],
      "execution_count": 18,
      "outputs": [
        {
          "output_type": "execute_result",
          "data": {
            "text/plain": [
              "64"
            ]
          },
          "metadata": {
            "tags": []
          },
          "execution_count": 18
        }
      ]
    },
    {
      "cell_type": "markdown",
      "metadata": {
        "id": "2MSlP4oMXPv1"
      },
      "source": [
        "We have a loud talking parrot. We are in trouble if the parrot is talking and the hour is before 6 or after 21.\n",
        "Define a function taking two parameters (talking and hour) to return True if we are in trouble. The argument to  talking parameter can only be True or False whether it is talking or not. The argument to hour parameter should be the current hour time in the range of 0 to 23."
      ]
    },
    {
      "cell_type": "code",
      "metadata": {
        "colab": {
          "base_uri": "https://localhost:8080/"
        },
        "id": "X6HQXNmDXOU7",
        "outputId": "418a508a-446b-400f-d882-af3c195a4a4f"
      },
      "source": [
        "def parrot_trouble(talking, hour):\n",
        "  if talking==True and hour in (22,23,0,1,2,3,4,5):\n",
        "    return True\n",
        "  else:\n",
        "    return False  \n",
        "parrot_trouble(False, 4)  "
      ],
      "execution_count": 22,
      "outputs": [
        {
          "output_type": "execute_result",
          "data": {
            "text/plain": [
              "False"
            ]
          },
          "metadata": {
            "tags": []
          },
          "execution_count": 22
        }
      ]
    }
  ]
}