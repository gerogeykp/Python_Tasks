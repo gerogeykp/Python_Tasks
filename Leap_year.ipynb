{
  "nbformat": 4,
  "nbformat_minor": 0,
  "metadata": {
    "colab": {
      "name": "Leap_year.ipynb",
      "provenance": [],
      "authorship_tag": "ABX9TyMtHztf4E/ZmKVkM1Mp+31V",
      "include_colab_link": true
    },
    "kernelspec": {
      "name": "python3",
      "display_name": "Python 3"
    },
    "language_info": {
      "name": "python"
    }
  },
  "cells": [
    {
      "cell_type": "markdown",
      "metadata": {
        "id": "view-in-github",
        "colab_type": "text"
      },
      "source": [
        "<a href=\"https://colab.research.google.com/github/gerogeykp/Python_Tasks/blob/main/Leap_year.ipynb\" target=\"_parent\"><img src=\"https://colab.research.google.com/assets/colab-badge.svg\" alt=\"Open In Colab\"/></a>"
      ]
    },
    {
      "cell_type": "code",
      "metadata": {
        "colab": {
          "base_uri": "https://localhost:8080/"
        },
        "id": "rEMNhXaFjH6y",
        "outputId": "4aefd060-e4d6-4cb5-856f-c25132a794d0"
      },
      "source": [
        "number = int(input(\"Please enter a number\"))\n",
        "if number%400==0:\n",
        "  print(\"{} is a leap year\".format(number))\n",
        "elif number%100 ==0 and number%400 !=0:\n",
        "  print(\"{} is not a leap year\".format(number))\n",
        "elif number%4==0:\n",
        "  print(\"{} is a leap year\".format(number))"
      ],
      "execution_count": 47,
      "outputs": [
        {
          "output_type": "stream",
          "text": [
            "Please enter a number1600400\n",
            "1600400 is a leap year\n"
          ],
          "name": "stdout"
        }
      ]
    }
  ]
}