{
  "nbformat": 4,
  "nbformat_minor": 0,
  "metadata": {
    "colab": {
      "name": "Colaboratory'ye Hoş Geldiniz",
      "provenance": [],
      "collapsed_sections": [],
      "toc_visible": true,
      "include_colab_link": true
    },
    "kernelspec": {
      "display_name": "Python 3",
      "name": "python3"
    }
  },
  "cells": [
    {
      "cell_type": "markdown",
      "metadata": {
        "id": "view-in-github",
        "colab_type": "text"
      },
      "source": [
        "<a href=\"https://colab.research.google.com/github/gerogeykp/Python_Tasks/blob/main/Is%20it%20an%20Armstrong%20Number.ipynb\" target=\"_parent\"><img src=\"https://colab.research.google.com/assets/colab-badge.svg\" alt=\"Open In Colab\"/></a>"
      ]
    },
    {
      "cell_type": "code",
      "metadata": {
        "id": "3tupdEwx1Ghj",
        "outputId": "5905531f-1f7e-4173-e839-8d0c66d3c458",
        "colab": {
          "base_uri": "https://localhost:8080/"
        }
      },
      "source": [
        "number = input(\"Please enter positive number \\nI will check if it is an Armstrong   \")\n",
        "summ = 0\n",
        "\n",
        "if number.isdigit():\n",
        "  check = \"\".join(number)\n",
        "  \n",
        "  for i in check:\n",
        "    summ += int(i) ** len(check)\n",
        "      \n",
        "  if summ == int(number):\n",
        "    print(\"{} is an Armstrong number\".format(number))\n",
        "  else:\n",
        "    print(\"{} is NOT an Armstrong number\".format(number))  \n",
        "\n",
        "else:\n",
        "  print(\"It is an invalid entry. Don't use non-numeric, float, or negative values!\")\n",
        "\n",
        "\n"
      ],
      "execution_count": 59,
      "outputs": [
        {
          "output_type": "stream",
          "text": [
            "Please enter positive number \n",
            "I will check if it is an Armstrong   407\n",
            "407 is an Armstrong number\n"
          ],
          "name": "stdout"
        }
      ]
    }
  ]
}