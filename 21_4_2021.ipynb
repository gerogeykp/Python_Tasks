{
  "nbformat": 4,
  "nbformat_minor": 0,
  "metadata": {
    "colab": {
      "name": "21.4.2021.ipynb",
      "provenance": [],
      "authorship_tag": "ABX9TyOSTWtzAz7Ntx/5jROHI8fz",
      "include_colab_link": true
    },
    "kernelspec": {
      "name": "python3",
      "display_name": "Python 3"
    },
    "language_info": {
      "name": "python"
    }
  },
  "cells": [
    {
      "cell_type": "markdown",
      "metadata": {
        "id": "view-in-github",
        "colab_type": "text"
      },
      "source": [
        "<a href=\"https://colab.research.google.com/github/gerogeykp/Python_Tasks/blob/main/21_4_2021.ipynb\" target=\"_parent\"><img src=\"https://colab.research.google.com/assets/colab-badge.svg\" alt=\"Open In Colab\"/></a>"
      ]
    },
    {
      "cell_type": "code",
      "metadata": {
        "id": "Tm48QGaRdekL"
      },
      "source": [
        "sen =input(\"bir cümle giriniz\")\n",
        " = \n"
      ],
      "execution_count": null,
      "outputs": []
    },
    {
      "cell_type": "code",
      "metadata": {
        "id": "fiQ4FNNufh_2"
      },
      "source": [
        "sentence = input('give me a sentence  ')\n",
        "words = sentence.split()\n",
        "i = 0\n",
        "longest = 0\n",
        "while i <len(words) :\n",
        "  if len(words[i]) >longest:\n",
        "    longest = len(words[i])\n",
        "  i +=1 \n",
        "print('the lengt of the longest word is :', longest)"
      ],
      "execution_count": null,
      "outputs": []
    },
    {
      "cell_type": "code",
      "metadata": {
        "colab": {
          "base_uri": "https://localhost:8080/"
        },
        "id": "iY3qB63sjKXo",
        "outputId": "88649154-d366-4845-a7a0-a532eb643576"
      },
      "source": [
        "names = [\"Ahmed\", \"Aisha\", \"Adam\", \"Joseph\", \"Gabriel\"]\n",
        "for i in names:\n",
        "  print(\"Hello\",i)\n"
      ],
      "execution_count": 2,
      "outputs": [
        {
          "output_type": "stream",
          "text": [
            "Hello Ahmed\n",
            "Hello Aisha\n",
            "Hello Adam\n",
            "Hello Joseph\n",
            "Hello Gabriel\n"
          ],
          "name": "stdout"
        }
      ]
    },
    {
      "cell_type": "code",
      "metadata": {
        "colab": {
          "base_uri": "https://localhost:8080/"
        },
        "id": "E1s6eaWSjuoD",
        "outputId": "95b3d68f-f790-4139-a409-3d983c128a0f"
      },
      "source": [
        "a =[i for i in  range(1,6)]\n",
        "print(a)"
      ],
      "execution_count": 6,
      "outputs": [
        {
          "output_type": "stream",
          "text": [
            "[1, 2, 3, 4, 5]\n"
          ],
          "name": "stdout"
        }
      ]
    },
    {
      "cell_type": "code",
      "metadata": {
        "colab": {
          "base_uri": "https://localhost:8080/"
        },
        "id": "SySFYTgelH1Y",
        "outputId": "2faf076c-6d51-442d-cf4b-4d13cf4d1278"
      },
      "source": [
        "course = \"clarusway\"\n",
        "count =0\n",
        "for i in course:\n",
        "  count +=1\n",
        "  if count < len(course):\n",
        "    i = i + \"-\"\n",
        "  print(i, end = \"\")\n",
        " \n",
        "\n",
        "                   "
      ],
      "execution_count": 46,
      "outputs": [
        {
          "output_type": "stream",
          "text": [
            "c-l-a-r-u-s-w-a-y"
          ],
          "name": "stdout"
        }
      ]
    },
    {
      "cell_type": "code",
      "metadata": {
        "colab": {
          "base_uri": "https://localhost:8080/"
        },
        "id": "K4vNlC033ndr",
        "outputId": "859fa86f-6581-476d-aaed-2e756bf0e53e"
      },
      "source": [
        "samanlık = [\"yumurta\", \"yaba\", \"inek\",\"iğne\", \"saman\", \"texek\", \"tırmık\"]\n",
        "print(f\"iğne {samanlık.index('iğne')} numaralı indexte\")\n"
      ],
      "execution_count": 25,
      "outputs": [
        {
          "output_type": "stream",
          "text": [
            "iğne 3 numaralı indexte\n"
          ],
          "name": "stdout"
        }
      ]
    },
    {
      "cell_type": "code",
      "metadata": {
        "id": "N4P37ZVT5gEw"
      },
      "source": [
        "a, b, c = 1, 2, 3\n",
        "(monday, tuesday,wednesday, thursday, friday, saturday, sunday) = tuple(range(1,8))\n"
      ],
      "execution_count": 27,
      "outputs": []
    },
    {
      "cell_type": "code",
      "metadata": {
        "colab": {
          "base_uri": "https://localhost:8080/"
        },
        "id": "pf20yrqL6SkH",
        "outputId": "2226c7af-5b56-4307-b501-bd052bd22a63"
      },
      "source": [
        "print([1, 2, 3, 4] + [\"11\", \"22\", 33])"
      ],
      "execution_count": 28,
      "outputs": [
        {
          "output_type": "stream",
          "text": [
            "[1, 2, 3, 4, '11', '22', 33]\n"
          ],
          "name": "stdout"
        }
      ]
    },
    {
      "cell_type": "code",
      "metadata": {
        "colab": {
          "base_uri": "https://localhost:8080/"
        },
        "id": "JIkadvEn7bBB",
        "outputId": "4a4010e5-8607-413e-c1a0-a51ec69405b6"
      },
      "source": [
        "tt = (1,2, [1,3,5])\n",
        "tt[2][2]\n",
        "tt[2].append(4)\n",
        "tt\n"
      ],
      "execution_count": 33,
      "outputs": [
        {
          "output_type": "execute_result",
          "data": {
            "text/plain": [
              "(1, 2, [1, 3, 5, 4])"
            ]
          },
          "metadata": {
            "tags": []
          },
          "execution_count": 33
        }
      ]
    },
    {
      "cell_type": "code",
      "metadata": {
        "id": "Ye9iKBuz8YCv"
      },
      "source": [
        "a,_,b,_=(10,20,30,40)\n",
        "print(a,b)"
      ],
      "execution_count": null,
      "outputs": []
    },
    {
      "cell_type": "code",
      "metadata": {
        "id": "iZGSkEjmQo41"
      },
      "source": [
        ""
      ],
      "execution_count": null,
      "outputs": []
    },
    {
      "cell_type": "code",
      "metadata": {
        "colab": {
          "base_uri": "https://localhost:8080/"
        },
        "id": "-wE-fkLH9Ozf",
        "outputId": "caf66da3-80ba-42e8-d38e-35501b9b1af7"
      },
      "source": [
        "x,y,*_ = (11,22,33,44,55,66)\n",
        "print(x,y)"
      ],
      "execution_count": 39,
      "outputs": [
        {
          "output_type": "stream",
          "text": [
            "11 22\n"
          ],
          "name": "stdout"
        }
      ]
    },
    {
      "cell_type": "code",
      "metadata": {
        "colab": {
          "base_uri": "https://localhost:8080/"
        },
        "id": "Hdfizupv94T1",
        "outputId": "6739a6dd-4426-4817-b6ea-7895b5d41532"
      },
      "source": [
        "x,y,*z,t=(11,22,33,44,55,66,77,88)\n",
        "print(z)\n",
        "print(t)"
      ],
      "execution_count": 42,
      "outputs": [
        {
          "output_type": "stream",
          "text": [
            "[33, 44, 55, 66, 77]\n",
            "88\n"
          ],
          "name": "stdout"
        }
      ]
    },
    {
      "cell_type": "code",
      "metadata": {
        "colab": {
          "base_uri": "https://localhost:8080/"
        },
        "id": "iD_Mcm_4_qY-",
        "outputId": "c7a049ed-5704-471a-9269-203a9771c281"
      },
      "source": [
        "isimler ={\"ali\": 33, \"veli\":44, \"ayşe\": 2}\n",
        "for a,b in isimler.items():\n",
        "  print(a,b)"
      ],
      "execution_count": 47,
      "outputs": [
        {
          "output_type": "stream",
          "text": [
            "ali 33\n",
            "veli 44\n",
            "ayşe 2\n"
          ],
          "name": "stdout"
        }
      ]
    },
    {
      "cell_type": "code",
      "metadata": {
        "colab": {
          "base_uri": "https://localhost:8080/"
        },
        "id": "RurGAto3oMnu",
        "outputId": "b38bc8b9-06c7-4cad-bbe2-6a9bbc0c92d3"
      },
      "source": [
        "course = \"clarusway\"\n",
        "for i in course:\n",
        "\n",
        "  if i != course[-1]:\n",
        "    print(i, end =\"-\")\n",
        "  else:\n",
        "    print(i,end=\"\")\n",
        "  "
      ],
      "execution_count": 22,
      "outputs": [
        {
          "output_type": "stream",
          "text": [
            "c-l-a-r-u-s-w-a-y"
          ],
          "name": "stdout"
        }
      ]
    },
    {
      "cell_type": "code",
      "metadata": {
        "colab": {
          "base_uri": "https://localhost:8080/",
          "height": 128
        },
        "id": "CxRdUgnxQu1-",
        "outputId": "b79785e3-b2dd-46e5-c348-28913bbd2336"
      },
      "source": [
        "a = int(input(\"a number between 1 to 10:\")\n",
        "for i in range(11)\n",
        "  print(\"{} x {} =\".format(a,i))"
      ],
      "execution_count": 69,
      "outputs": [
        {
          "output_type": "error",
          "ename": "SyntaxError",
          "evalue": "ignored",
          "traceback": [
            "\u001b[0;36m  File \u001b[0;32m\"<ipython-input-69-6d0f11702a63>\"\u001b[0;36m, line \u001b[0;32m3\u001b[0m\n\u001b[0;31m    print(\"{} x {} =\".format(a,i))\u001b[0m\n\u001b[0m        ^\u001b[0m\n\u001b[0;31mSyntaxError\u001b[0m\u001b[0;31m:\u001b[0m invalid syntax\n"
          ]
        }
      ]
    },
    {
      "cell_type": "code",
      "metadata": {
        "colab": {
          "base_uri": "https://localhost:8080/"
        },
        "id": "7Me8ZOboRD_2",
        "outputId": "1eb38ec6-c91f-4889-fb3c-76aeac89ae54"
      },
      "source": [
        "isimler = [\"TArık\", \"sevda\", \"selim\"]\n",
        "yaşlar = [11,22,33,]\n",
        "xx = zip(isimler,yaşlar)\n",
        "#print(list(xx))\n",
        "\n",
        "for isim,yas in xx:\n",
        "  print(isim,yas)\n"
      ],
      "execution_count": 72,
      "outputs": [
        {
          "output_type": "stream",
          "text": [
            "TArık 11\n",
            "sevda 22\n",
            "selim 33\n"
          ],
          "name": "stdout"
        }
      ]
    }
  ]
}