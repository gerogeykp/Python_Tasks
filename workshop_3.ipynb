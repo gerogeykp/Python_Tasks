{
  "nbformat": 4,
  "nbformat_minor": 0,
  "metadata": {
    "colab": {
      "name": "workshop_3.ipynb",
      "provenance": [],
      "authorship_tag": "ABX9TyMF0xjpqaQpVyQTqTzB2I7v",
      "include_colab_link": true
    },
    "kernelspec": {
      "name": "python3",
      "display_name": "Python 3"
    },
    "language_info": {
      "name": "python"
    }
  },
  "cells": [
    {
      "cell_type": "markdown",
      "metadata": {
        "id": "view-in-github",
        "colab_type": "text"
      },
      "source": [
        "<a href=\"https://colab.research.google.com/github/gerogeykp/Python_Tasks/blob/main/workshop_3.ipynb\" target=\"_parent\"><img src=\"https://colab.research.google.com/assets/colab-badge.svg\" alt=\"Open In Colab\"/></a>"
      ]
    },
    {
      "cell_type": "code",
      "metadata": {
        "id": "rTiQynS9GfCn"
      },
      "source": [
        "def isvalid(s):\n",
        "  bracket_dict = {\"(\":\")\",\"[\":\"]\",\"{\":\"}\"}\n",
        "  open_bar = set([\"(\",\"[\",\"{\"])\n",
        "  depo = [] \n",
        "  for i in s:\n",
        "    if i in open_bar:\n",
        "      depo.append(i)\n",
        "      print(depo)\n",
        "    elif i == bracket_dict[depo[-1]]:\n",
        "      depo.pop()\n",
        "      print(depo)\n",
        "    else:\n",
        "      return False\n",
        "  return depo == []       \n",
        "\n",
        "check = input(\"Write a string that contains only `(`, `)`, `{`, `}`, `[` and `]`:\")\n",
        "print(isvalid(check))\n"
      ],
      "execution_count": null,
      "outputs": []
    },
    {
      "cell_type": "code",
      "metadata": {
        "id": "Pny_ykTXIy5p"
      },
      "source": [
        ""
      ],
      "execution_count": null,
      "outputs": []
    },
    {
      "cell_type": "code",
      "metadata": {
        "id": "MpHM-CWFHGSz"
      },
      "source": [
        "Write a function that given a string containing just the characters (, ), {, }, [ and ], \n",
        "determines if the input string is valid or not by using following rules.\n",
        "\n",
        "An input string is valid if:\n",
        "\n",
        "Open brackets must be closed by the same type of brackets.\n",
        "\n",
        "Open brackets must be closed in the correct order.\n",
        "\n",
        "Note that an empty string is also considered valid.\n",
        "\n",
        "Example for user inputs and respective outputs\n",
        "\n",
        "Input        Output\n",
        "--------:    ------:\n",
        "\"()\"         True\n",
        "\"()[]{}\"     True\n",
        "\"(]\"         False\n",
        "\"([)]\"       False\n",
        "\"{[]}\"       True\n",
        "\"\"           True"
      ],
      "execution_count": null,
      "outputs": []
    },
    {
      "cell_type": "code",
      "metadata": {
        "id": "dmn4Pr4vPcKo"
      },
      "source": [
        " open_bar = set([\"(\",\"[\",\"{\"])\n",
        " print(open_bar)"
      ],
      "execution_count": null,
      "outputs": []
    },
    {
      "cell_type": "code",
      "metadata": {
        "id": "eH7QQS_lZjbl"
      },
      "source": [
        "def buy_and_sell(ar):\n",
        "  max_profit = 0\n",
        "  for i in range(len(ar)):\n",
        "    for j in range(i,len(ar)):\n",
        "      buy_price = ar[i]\n",
        "      sell_price = ar[j]\n",
        "           \n",
        "      max_profit = max(max_profit, sell_price-buy_price)\n",
        "      print(buy_price, sell_price,max_profit) \n",
        "  return max_profit\n",
        "\n",
        "buy_and_sell([11,5,9,48,45,2,78])"
      ],
      "execution_count": null,
      "outputs": []
    },
    {
      "cell_type": "code",
      "metadata": {
        "id": "0Q3LTOF9Zo9A"
      },
      "source": [
        "Problem Statement\n",
        "Given an array of numbers representing the stock prices of a company in chronological order,\n",
        "write a function that calculates the maximum profit you could have made from buying and selling that stock once. Note that you must buy before you can sell it.\n",
        "\n",
        "For example, given [9, 11, 8, 5, 7, 10], you should return 5, since you could buy the stock at 5 dollars and sell it at 10 dollars.\n",
        "\n",
        "Example of different list of stock prices and respective outputs.\n",
        "\n",
        "List = [75,73,60,100,120,130]\n",
        "Output = 70\n",
        "List = [10,20,23,22,17,30]\n",
        "Output = 20\n",
        "List = [1,6,19,59,30,60]\n",
        "Output = 59"
      ],
      "execution_count": null,
      "outputs": []
    },
    {
      "cell_type": "code",
      "metadata": {
        "colab": {
          "base_uri": "https://localhost:8080/",
          "height": 35
        },
        "id": "NkmDbOanh-_P",
        "outputId": "3048bef5-0074-4583-8b45-fb9dcd67ecb7"
      },
      "source": [
        "def encode_morse(s):\n",
        "  \n",
        "  char_morse = {\n",
        "   'A': '.-', 'B': '-...', 'C': '-.-.', 'D': '-..', 'E': '.', 'F': '..-.',\n",
        "   'G': '--.', 'H': '....', 'I': '..', 'J': '.---', 'K': '-.-', 'L': '.-..',\n",
        "   'M': '--', 'N': '-.', 'O': '---', 'P': '.--.', 'Q': '--.-', 'R': '.-.',\n",
        "   'S': '...', 'T': '-', 'U': '..-', 'V': '...-', 'W': '.--', 'X': '-..-',\n",
        "   'Y': '-.--', 'Z': '--..', ' ': ' ', '0': '-----',\n",
        "   '1': '.----', '2': '..---', '3': '...--', '4': '....-', '5': '.....',\n",
        "   '6': '-....', '7': '--...', '8': '---..', '9': '----.',\n",
        "   '&': '.-...', \"'\": '.----.', '@': '.--.-.', ')': '-.--.-', '(': '-.--.',\n",
        "   ':': '---...', ',': '--..--', '=': '-...-', '!': '-.-.--', '.': '.-.-.-',\n",
        "   '-': '-....-', '+': '.-.-.', '\"': '.-..-.', '?': '..--..', '/': '-..-.'\n",
        "  \t}\n",
        "  morse_char = \"\"\n",
        "  for i in s:\n",
        "    morse_char += char_morse[i.upper()]+\" \"\n",
        "  return morse_char\n",
        "encode_morse(\"clarusway\")  "
      ],
      "execution_count": 38,
      "outputs": [
        {
          "output_type": "execute_result",
          "data": {
            "application/vnd.google.colaboratory.intrinsic+json": {
              "type": "string"
            },
            "text/plain": [
              "'-.-. .-.. .- .-. ..- ... .-- .- -.-- '"
            ]
          },
          "metadata": {
            "tags": []
          },
          "execution_count": 38
        }
      ]
    },
    {
      "cell_type": "code",
      "metadata": {
        "id": "-CgfxqqHh_Ce"
      },
      "source": [
        "-.-. .-.. .- .-. ..- ... .-- .- -.-- "
      ],
      "execution_count": null,
      "outputs": []
    },
    {
      "cell_type": "code",
      "metadata": {
        "id": "4KXoFiovh_IU"
      },
      "source": [
        "for i in \"asdfasdf\":\n",
        "  print(i)"
      ],
      "execution_count": null,
      "outputs": []
    }
  ]
}