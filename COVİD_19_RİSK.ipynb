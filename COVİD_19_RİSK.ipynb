{
  "nbformat": 4,
  "nbformat_minor": 0,
  "metadata": {
    "colab": {
      "name": "COVİD-19 RİSK",
      "provenance": [],
      "collapsed_sections": [],
      "toc_visible": true,
      "include_colab_link": true
    },
    "kernelspec": {
      "display_name": "Python 3",
      "name": "python3"
    }
  },
  "cells": [
    {
      "cell_type": "markdown",
      "metadata": {
        "id": "view-in-github",
        "colab_type": "text"
      },
      "source": [
        "<a href=\"https://colab.research.google.com/github/gerogeykp/Python_Tasks/blob/main/COV%C4%B0D_19_R%C4%B0SK.ipynb\" target=\"_parent\"><img src=\"https://colab.research.google.com/assets/colab-badge.svg\" alt=\"Open In Colab\"/></a>"
      ]
    },
    {
      "cell_type": "code",
      "metadata": {
        "id": "Tog-i5HJidNJ",
        "colab": {
          "base_uri": "https://localhost:8080/"
        },
        "outputId": "273fa4b8-9745-4aef-f0a9-42e0bf6586c8"
      },
      "source": [
        "age = input(\"Are you a cigarette addict than 75 years old? YES or NO \").upper()\n",
        "if age == \"YES\":\n",
        "  age = True\n",
        "else:\n",
        "  age= False\n",
        "chronic = input(\"Do you have a severe chronic disease? YES or No \").upper()\n",
        "if chronic == \"YES\":\n",
        "  chronic = True\n",
        "else:\n",
        "  chronic = False\n",
        "immune = input(\"Is your immune system too weak ? YES or NO \").upper()\n",
        "if immune == \"YES\":\n",
        "  immune = True\n",
        "else:\n",
        "  immune = False\n",
        "\n",
        "risk =  age or chronic or immune\n",
        "\n",
        "if risk:\n",
        "  print(\"You ara in risk group\")\n",
        "else:\n",
        "  print(\"You ara not in risky group  \")\n",
        "\n",
        "\n"
      ],
      "execution_count": null,
      "outputs": [
        {
          "output_type": "stream",
          "text": [
            "Are you a cigarette addict than 75 years old? YES or NO no\n",
            "Do you have a severe chronic disease? YES or No no\n",
            "Is your immune system too weak ? YES or NOyes\n",
            "You ara in risk group\n"
          ],
          "name": "stdout"
        }
      ]
    }
  ]
}