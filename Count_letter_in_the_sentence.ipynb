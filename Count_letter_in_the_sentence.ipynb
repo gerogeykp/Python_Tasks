{
  "nbformat": 4,
  "nbformat_minor": 0,
  "metadata": {
    "colab": {
      "name": "Count letter in the sentence",
      "provenance": [],
      "collapsed_sections": [],
      "include_colab_link": true
    },
    "kernelspec": {
      "display_name": "Python 3",
      "name": "python3"
    }
  },
  "cells": [
    {
      "cell_type": "markdown",
      "metadata": {
        "id": "view-in-github",
        "colab_type": "text"
      },
      "source": [
        "<a href=\"https://colab.research.google.com/github/gerogeykp/Python_Tasks/blob/main/Count_letter_in_the_sentence.ipynb\" target=\"_parent\"><img src=\"https://colab.research.google.com/assets/colab-badge.svg\" alt=\"Open In Colab\"/></a>"
      ]
    },
    {
      "cell_type": "code",
      "metadata": {
        "id": "ui9GqTtCbVrM",
        "colab": {
          "base_uri": "https://localhost:8080/"
        },
        "outputId": "f766fbf1-65a9-4cac-db02-71b2aee1d8d6"
      },
      "source": [
        "sentence =input(\"Please enter a sentence \\nI'll count the each letter: \")\n",
        "count_dict = {}\n",
        "\n",
        "for i in sentence:\n",
        "  if i not in count_dict:\n",
        "    count_dict[i] = 1\n",
        "  else:\n",
        "    x=sentence.count(i)\n",
        "    count_dict[i]=x\n",
        "    x=0\n",
        "print(count_dict)    "
      ],
      "execution_count": 1,
      "outputs": [
        {
          "output_type": "stream",
          "text": [
            "Please enter a sentence \n",
            "I'll count the each letter: asdfasdfffffddd\n",
            "{'a': 2, 's': 2, 'd': 5, 'f': 6}\n"
          ],
          "name": "stdout"
        }
      ]
    }
  ]
}