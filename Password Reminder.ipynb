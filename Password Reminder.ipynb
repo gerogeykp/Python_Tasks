{
  "nbformat": 4,
  "nbformat_minor": 0,
  "metadata": {
    "colab": {
      "name": "Welcome To Colaboratory",
      "provenance": [],
      "collapsed_sections": [],
      "include_colab_link": true
    },
    "kernelspec": {
      "display_name": "Python 3",
      "name": "python3"
    }
  },
  "cells": [
    {
      "cell_type": "markdown",
      "metadata": {
        "id": "view-in-github",
        "colab_type": "text"
      },
      "source": [
        "<a href=\"https://colab.research.google.com/github/gerogeykp/Python_Tasks/blob/main/Password%20Reminder.ipynb\" target=\"_parent\"><img src=\"https://colab.research.google.com/assets/colab-badge.svg\" alt=\"Open In Colab\"/></a>"
      ]
    },
    {
      "cell_type": "code",
      "metadata": {
        "colab": {
          "base_uri": "https://localhost:8080/"
        },
        "id": "pfG7YwqNH-Y1",
        "outputId": "9204ef2b-82bd-4970-9607-262246203e41"
      },
      "source": [
        "name_pswrd = {\"Joseph\" : 'W@12\",' , \"George\" : 1234567, \"Sergio\" : \"asdfasdfasdf \", \"Ali\" :\"21312asd21asdfasdf\"}\n",
        "name = input(\"Enter your names: \").title()\n",
        "if name in name_pswrd:\n",
        "    print(\"Hello,{}! The password is :{}\".format(name,name_pswrd[name]))\n",
        "else :\n",
        "    print(\"Hello,{}!See you later.\".format(name))"
      ],
      "execution_count": 25,
      "outputs": [
        {
          "output_type": "stream",
          "text": [
            "Enter your names: Joseph\n",
            "Hello,Joseph! The password is :W@12\",\n"
          ],
          "name": "stdout"
        }
      ]
    }
  ]
}