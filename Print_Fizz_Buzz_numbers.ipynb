{
  "nbformat": 4,
  "nbformat_minor": 0,
  "metadata": {
    "colab": {
      "name": "Print Fizz Buzz numbers.ipynb",
      "provenance": [],
      "authorship_tag": "ABX9TyMUFjwy8xVsPggu+PvQ8e75",
      "include_colab_link": true
    },
    "kernelspec": {
      "name": "python3",
      "display_name": "Python 3"
    },
    "language_info": {
      "name": "python"
    }
  },
  "cells": [
    {
      "cell_type": "markdown",
      "metadata": {
        "id": "view-in-github",
        "colab_type": "text"
      },
      "source": [
        "<a href=\"https://colab.research.google.com/github/gerogeykp/Python_Tasks/blob/main/Print_Fizz_Buzz_numbers.ipynb\" target=\"_parent\"><img src=\"https://colab.research.google.com/assets/colab-badge.svg\" alt=\"Open In Colab\"/></a>"
      ]
    },
    {
      "cell_type": "code",
      "metadata": {
        "colab": {
          "base_uri": "https://localhost:8080/"
        },
        "id": "FFAzWQzmqTnf",
        "outputId": "3628c165-993c-465b-d6db-1a382ba2bd99"
      },
      "source": [
        "# Print Fizz and Buzz numbers \n",
        "# if a number is multiple of 3 print Fizz\n",
        "# İf a number is multiple of 5 print Buzz\n",
        "# İf a number is multiple of both 3 and 5 print \"FizzBuzz\" \n",
        "numbers=list(range(1,101))\n",
        "fizz_buzz = []\n",
        "\n",
        "for i in numbers:\n",
        "  if i%3==0 and i%5!=0:\n",
        "    fizz_buzz.append(\"Fizz\")  \n",
        "  elif i%3!=0 and i%5 ==0:\n",
        "    fizz_buzz.append(\"Buzz\")   \n",
        "  elif i%3==0 and i%5 ==0:\n",
        "    fizz_buzz.append(\"FizzBuzz\")  \n",
        "  else:\n",
        "    fizz_buzz.append(i)\n",
        "print(fizz_buzz)      "
      ],
      "execution_count": 5,
      "outputs": [
        {
          "output_type": "stream",
          "text": [
            "[1, 2, 3, 4, 5, 6, 7, 8, 9, 10, 11, 12, 13, 14, 15, 16, 17, 18, 19, 20, 21, 22, 23, 24, 25, 26, 27, 28, 29, 30, 31, 32, 33, 34, 35, 36, 37, 38, 39, 40, 41, 42, 43, 44, 45, 46, 47, 48, 49, 50, 51, 52, 53, 54, 55, 56, 57, 58, 59, 60, 61, 62, 63, 64, 65, 66, 67, 68, 69, 70, 71, 72, 73, 74, 75, 76, 77, 78, 79, 80, 81, 82, 83, 84, 85, 86, 87, 88, 89, 90, 91, 92, 93, 94, 95, 96, 97, 98, 99, 100]\n",
            "[1, 2, 'Fizz', 4, 'Buzz', 'Fizz', 7, 8, 'Fizz', 'Buzz', 11, 'Fizz', 13, 14, 'FizzBuzz', 16, 17, 'Fizz', 19, 'Buzz', 'Fizz', 22, 23, 'Fizz', 'Buzz', 26, 'Fizz', 28, 29, 'FizzBuzz', 31, 32, 'Fizz', 34, 'Buzz', 'Fizz', 37, 38, 'Fizz', 'Buzz', 41, 'Fizz', 43, 44, 'FizzBuzz', 46, 47, 'Fizz', 49, 'Buzz', 'Fizz', 52, 53, 'Fizz', 'Buzz', 56, 'Fizz', 58, 59, 'FizzBuzz', 61, 62, 'Fizz', 64, 'Buzz', 'Fizz', 67, 68, 'Fizz', 'Buzz', 71, 'Fizz', 73, 74, 'FizzBuzz', 76, 77, 'Fizz', 79, 'Buzz', 'Fizz', 82, 83, 'Fizz', 'Buzz', 86, 'Fizz', 88, 89, 'FizzBuzz', 91, 92, 'Fizz', 94, 'Buzz', 'Fizz', 97, 98, 'Fizz', 'Buzz']\n"
          ],
          "name": "stdout"
        }
      ]
    }
  ]
}