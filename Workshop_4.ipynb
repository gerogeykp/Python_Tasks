{
  "nbformat": 4,
  "nbformat_minor": 0,
  "metadata": {
    "colab": {
      "name": "Workshop_4.ipynb",
      "provenance": [],
      "collapsed_sections": [],
      "authorship_tag": "ABX9TyOz/kGZCImTkWXSDke3BSug",
      "include_colab_link": true
    },
    "kernelspec": {
      "name": "python3",
      "display_name": "Python 3"
    },
    "language_info": {
      "name": "python"
    }
  },
  "cells": [
    {
      "cell_type": "markdown",
      "metadata": {
        "id": "view-in-github",
        "colab_type": "text"
      },
      "source": [
        "<a href=\"https://colab.research.google.com/github/gerogeykp/Python_Tasks/blob/main/Workshop_4.ipynb\" target=\"_parent\"><img src=\"https://colab.research.google.com/assets/colab-badge.svg\" alt=\"Open In Colab\"/></a>"
      ]
    },
    {
      "cell_type": "code",
      "metadata": {
        "colab": {
          "base_uri": "https://localhost:8080/",
          "height": 316
        },
        "id": "Hj4Qn9O2I0st",
        "outputId": "e1e0d117-c978-4fc0-eace-642f8065144a"
      },
      "source": [
        "def palidrem(a):   \n",
        "    a=list(a)\n",
        "    for i in a[::-1]:\n",
        "      if i.isalnum()!=True or i ==' ':\n",
        "              \n",
        "        reversed(a).remove(i)\n",
        "         \n",
        "    r=list(reversed(a))\n",
        "    print(a,\"\\n\",r)\n",
        "    #print(a,r,not_alnum)    \n",
        "    if a == r:\n",
        "      print(''.join(a),\"is a paneram sentence\")        \n",
        "    else: \n",
        "      print(''.join(a),\"is not a palidrem sentence\")   \n",
        "palidrem(\"ey edip adana'da, pide ye!\")    "
      ],
      "execution_count": 18,
      "outputs": [
        {
          "output_type": "error",
          "ename": "AttributeError",
          "evalue": "ignored",
          "traceback": [
            "\u001b[0;31m---------------------------------------------------------------------------\u001b[0m",
            "\u001b[0;31mAttributeError\u001b[0m                            Traceback (most recent call last)",
            "\u001b[0;32m<ipython-input-18-79c279152156>\u001b[0m in \u001b[0;36m<module>\u001b[0;34m()\u001b[0m\n\u001b[1;32m     13\u001b[0m     \u001b[0;32melse\u001b[0m\u001b[0;34m:\u001b[0m\u001b[0;34m\u001b[0m\u001b[0;34m\u001b[0m\u001b[0m\n\u001b[1;32m     14\u001b[0m       \u001b[0mprint\u001b[0m\u001b[0;34m(\u001b[0m\u001b[0;34m''\u001b[0m\u001b[0;34m.\u001b[0m\u001b[0mjoin\u001b[0m\u001b[0;34m(\u001b[0m\u001b[0ma\u001b[0m\u001b[0;34m)\u001b[0m\u001b[0;34m,\u001b[0m\u001b[0;34m\"is not a palidrem sentence\"\u001b[0m\u001b[0;34m)\u001b[0m\u001b[0;34m\u001b[0m\u001b[0;34m\u001b[0m\u001b[0m\n\u001b[0;32m---> 15\u001b[0;31m \u001b[0mpalidrem\u001b[0m\u001b[0;34m(\u001b[0m\u001b[0;34m\"ey edip adana'da, pide ye!\"\u001b[0m\u001b[0;34m)\u001b[0m\u001b[0;34m\u001b[0m\u001b[0;34m\u001b[0m\u001b[0m\n\u001b[0m",
            "\u001b[0;32m<ipython-input-18-79c279152156>\u001b[0m in \u001b[0;36mpalidrem\u001b[0;34m(a)\u001b[0m\n\u001b[1;32m      4\u001b[0m       \u001b[0;32mif\u001b[0m \u001b[0mi\u001b[0m\u001b[0;34m.\u001b[0m\u001b[0misalnum\u001b[0m\u001b[0;34m(\u001b[0m\u001b[0;34m)\u001b[0m\u001b[0;34m!=\u001b[0m\u001b[0;32mTrue\u001b[0m \u001b[0;32mor\u001b[0m \u001b[0mi\u001b[0m \u001b[0;34m==\u001b[0m\u001b[0;34m' '\u001b[0m\u001b[0;34m:\u001b[0m\u001b[0;34m\u001b[0m\u001b[0;34m\u001b[0m\u001b[0m\n\u001b[1;32m      5\u001b[0m \u001b[0;34m\u001b[0m\u001b[0m\n\u001b[0;32m----> 6\u001b[0;31m         \u001b[0mreversed\u001b[0m\u001b[0;34m(\u001b[0m\u001b[0ma\u001b[0m\u001b[0;34m)\u001b[0m\u001b[0;34m.\u001b[0m\u001b[0mremove\u001b[0m\u001b[0;34m(\u001b[0m\u001b[0mi\u001b[0m\u001b[0;34m)\u001b[0m\u001b[0;34m\u001b[0m\u001b[0;34m\u001b[0m\u001b[0m\n\u001b[0m\u001b[1;32m      7\u001b[0m \u001b[0;34m\u001b[0m\u001b[0m\n\u001b[1;32m      8\u001b[0m     \u001b[0mr\u001b[0m\u001b[0;34m=\u001b[0m\u001b[0mlist\u001b[0m\u001b[0;34m(\u001b[0m\u001b[0mreversed\u001b[0m\u001b[0;34m(\u001b[0m\u001b[0ma\u001b[0m\u001b[0;34m)\u001b[0m\u001b[0;34m)\u001b[0m\u001b[0;34m\u001b[0m\u001b[0;34m\u001b[0m\u001b[0m\n",
            "\u001b[0;31mAttributeError\u001b[0m: 'list_reverseiterator' object has no attribute 'remove'"
          ]
        }
      ]
    },
    {
      "cell_type": "code",
      "metadata": {
        "colab": {
          "base_uri": "https://localhost:8080/",
          "height": 129
        },
        "id": "qUkpQy7b1UYa",
        "outputId": "6f63e3d4-5dbd-41a1-d3ef-3a3ba92ad4e9"
      },
      "source": [
        "def palidrem(word):   \n",
        "    a=list(word)\n",
        "    not_alnum={}\n",
        "    count=0\n",
        "    b=[]\n",
        "    for i in a:\n",
        "      if i.isalnum()!=True :\n",
        "      \n",
        "        x=a.index(i,count,len(a)+1)\n",
        "        print(x,count)\n",
        "        not_alnum[x]=i\n",
        "        #a.pop(x)\n",
        "        #count -=1\n",
        "      else:\n",
        "        b.append(i)  \n",
        "      count += 1    \n",
        "      \n",
        "    if b == list(reversed(b)):\n",
        "      print(\"paneram sentence\")        \n",
        "    else:\n",
        "      print(\"is not a palidrem\")\n",
        "    print(not_alnum,\"\\n\",b,\"\\n\",list(reversed(b))\n",
        "    #for i in not_alnum:\n",
        "     # r.insert(i,not_alnum[i])\n",
        "    #print(r)  \n",
        "    \n",
        "palidrem(\"ey edip adana'da, pide ye!\")"
      ],
      "execution_count": 2,
      "outputs": [
        {
          "output_type": "error",
          "ename": "SyntaxError",
          "evalue": "ignored",
          "traceback": [
            "\u001b[0;36m  File \u001b[0;32m\"<ipython-input-2-095cdf858e7d>\"\u001b[0;36m, line \u001b[0;32m27\u001b[0m\n\u001b[0;31m    palidrem(\"ey edip adana'da, pide ye!\")\u001b[0m\n\u001b[0m           ^\u001b[0m\n\u001b[0;31mSyntaxError\u001b[0m\u001b[0;31m:\u001b[0m invalid syntax\n"
          ]
        }
      ]
    }
  ]
}