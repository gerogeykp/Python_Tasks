{
  "nbformat": 4,
  "nbformat_minor": 0,
  "metadata": {
    "colab": {
      "name": "Workshop_4.ipynb",
      "provenance": [],
      "collapsed_sections": [],
      "authorship_tag": "ABX9TyMs7cO3DORq2abBC2vnWYie",
      "include_colab_link": true
    },
    "kernelspec": {
      "name": "python3",
      "display_name": "Python 3"
    },
    "language_info": {
      "name": "python"
    }
  },
  "cells": [
    {
      "cell_type": "markdown",
      "metadata": {
        "id": "view-in-github",
        "colab_type": "text"
      },
      "source": [
        "<a href=\"https://colab.research.google.com/github/gerogeykp/Python_Tasks/blob/main/Workshop_4.ipynb\" target=\"_parent\"><img src=\"https://colab.research.google.com/assets/colab-badge.svg\" alt=\"Open In Colab\"/></a>"
      ]
    },
    {
      "cell_type": "code",
      "metadata": {
        "id": "OWU0Bits4Y7T"
      },
      "source": [
        "def palidrem(word):   \n",
        "    a=list(word)\n",
        "    b=[]\n",
        "    \n",
        "    for i in a:\n",
        "      if i.isalnum()==True :\n",
        "      \n",
        "        b.append(i)\n",
        "    \n",
        "    if b == list(reversed(b)):\n",
        "      print(word,\" is palidrem sentence\")        \n",
        "    else:\n",
        "      print(word,\" Not a palidrem sentence\")\n",
        "      \n",
        "palidrem(\"ey edip adana'da, pide ye!\")   "
      ],
      "execution_count": null,
      "outputs": []
    },
    {
      "cell_type": "code",
      "metadata": {
        "colab": {
          "base_uri": "https://localhost:8080/"
        },
        "id": "JL2pCRcjD-ke",
        "outputId": "ece6b95e-f941-4343-f1b5-3d8fe6f3012f"
      },
      "source": [
        "s = [\n",
        "    [0, 0, 0, 0, 6, 4, 0, 0, 0],\n",
        "    [7, 0, 0, 0, 0, 0, 3, 9, 0],\n",
        "    [8, 0, 0, 0, 0, 0, 0, 0, 0],\n",
        "    [0, 0, 0, 5, 0, 2, 0, 6, 0],\n",
        "    [0, 8, 0, 4, 0, 0, 0, 0, 0],\n",
        "    [3, 5, 0, 6, 0, 0, 0, 7, 0],\n",
        "    [0, 0, 2, 0, 0, 0, 1, 0, 3],\n",
        "    [0, 0, 1, 0, 5, 9, 0, 0, 0],\n",
        "    [0, 0, 0, 0, 0, 0, 7, 0, 0]\n",
        "]\n",
        "a=\"|\"\n",
        "for i in range(len(s)):\n",
        "  for j in range(10):\n",
        "    if j==3:\n",
        "      s[i].insert(3,a)\n",
        "    if  j == 6:\n",
        "        s[i].insert(7,a)\n",
        "\n",
        "b=\"----------------------\"\n",
        "for i in s:\n",
        "  if s.index(i)==0 or s.index(i)==3 or s.index(i)==6:\n",
        "    print(b)\n",
        "    print(*i)\n",
        "  elif s.index(i)==8:\n",
        "    print(*i)\n",
        "    print(b)  \n",
        "  else:\n",
        "    print(*i)  "
      ],
      "execution_count": 3,
      "outputs": [
        {
          "output_type": "stream",
          "text": [
            "----------------------\n",
            "0 0 0 | 0 6 4 | 0 0 0\n",
            "7 0 0 | 0 0 0 | 3 9 0\n",
            "8 0 0 | 0 0 0 | 0 0 0\n",
            "----------------------\n",
            "0 0 0 | 5 0 2 | 0 6 0\n",
            "0 8 0 | 4 0 0 | 0 0 0\n",
            "3 5 0 | 6 0 0 | 0 7 0\n",
            "----------------------\n",
            "0 0 2 | 0 0 0 | 1 0 3\n",
            "0 0 1 | 0 5 9 | 0 0 0\n",
            "0 0 0 | 0 0 0 | 7 0 0\n",
            "----------------------\n"
          ],
          "name": "stdout"
        }
      ]
    }
  ]
}