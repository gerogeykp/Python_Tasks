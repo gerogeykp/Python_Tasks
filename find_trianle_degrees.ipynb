{
  "nbformat": 4,
  "nbformat_minor": 0,
  "metadata": {
    "colab": {
      "name": "find_trianle_degrees",
      "provenance": [],
      "collapsed_sections": [],
      "include_colab_link": true
    },
    "kernelspec": {
      "display_name": "Python 3",
      "name": "python3"
    }
  },
  "cells": [
    {
      "cell_type": "markdown",
      "metadata": {
        "id": "view-in-github",
        "colab_type": "text"
      },
      "source": [
        "<a href=\"https://colab.research.google.com/github/gerogeykp/Python_Tasks/blob/main/find_trianle_degrees.ipynb\" target=\"_parent\"><img src=\"https://colab.research.google.com/assets/colab-badge.svg\" alt=\"Open In Colab\"/></a>"
      ]
    },
    {
      "cell_type": "code",
      "metadata": {
        "id": "nfUAsFTJdJ0Z",
        "colab": {
          "base_uri": "https://localhost:8080/",
          "height": 246
        },
        "outputId": "d7de46fe-a2b7-470b-af2b-698ac4e6938d"
      },
      "source": [
        "a= int(input(\"litfen üçgenin a kenarını giriniz: \"))\n",
        "b= int(input(\"litfen üçgenin b kenarını giriniz: \"))\n",
        "c= int(input(\"litfen üçgenin c kenarını giriniz: \"))\n",
        "if a+b>c and a+c>b and b+c>a:\n",
        "  print(\"{}, {}, {} bu sayılar ile üçgen oluturalabilir\".format(a,b,c))\n",
        "  print(\"Üçgenin açılarını hesaplayacağım\")\n",
        "  import math \n",
        "  print(math.cos(math.pi))\n",
        "  A=(b**2 + c**2 - a**2)/(2*b*c)\n",
        "  B=(a**2 + c**2 - b**2)/(2*a*c)\n",
        "  C=(b**2 + a**2 - c**2)/(2*b*a)\n",
        "\n",
        "  print((math.acos(A))*180/math.pi)\n",
        "  print((math.acos(B))*180/math.pi)\n",
        "  print((math.acos(C))*180/math.pi)\n",
        "else:\n",
        "  print(\"{}, {}, {} bu sayılar ile üçgen oluturulamaz\".format(a,b,c))  \n"
      ],
      "execution_count": null,
      "outputs": [
        {
          "output_type": "stream",
          "text": [
            "litfen üçgenin a kenarını giriniz: a\n"
          ],
          "name": "stdout"
        },
        {
          "output_type": "error",
          "ename": "ValueError",
          "evalue": "ignored",
          "traceback": [
            "\u001b[0;31m---------------------------------------------------------------------------\u001b[0m",
            "\u001b[0;31mValueError\u001b[0m                                Traceback (most recent call last)",
            "\u001b[0;32m<ipython-input-13-4f74f164bf92>\u001b[0m in \u001b[0;36m<module>\u001b[0;34m()\u001b[0m\n\u001b[0;32m----> 1\u001b[0;31m \u001b[0ma\u001b[0m\u001b[0;34m=\u001b[0m \u001b[0mint\u001b[0m\u001b[0;34m(\u001b[0m\u001b[0minput\u001b[0m\u001b[0;34m(\u001b[0m\u001b[0;34m\"litfen üçgenin a kenarını giriniz: \"\u001b[0m\u001b[0;34m)\u001b[0m\u001b[0;34m)\u001b[0m\u001b[0;34m\u001b[0m\u001b[0;34m\u001b[0m\u001b[0m\n\u001b[0m\u001b[1;32m      2\u001b[0m \u001b[0mb\u001b[0m\u001b[0;34m=\u001b[0m \u001b[0mint\u001b[0m\u001b[0;34m(\u001b[0m\u001b[0minput\u001b[0m\u001b[0;34m(\u001b[0m\u001b[0;34m\"litfen üçgenin b kenarını giriniz: \"\u001b[0m\u001b[0;34m)\u001b[0m\u001b[0;34m)\u001b[0m\u001b[0;34m\u001b[0m\u001b[0;34m\u001b[0m\u001b[0m\n\u001b[1;32m      3\u001b[0m \u001b[0mc\u001b[0m\u001b[0;34m=\u001b[0m \u001b[0mint\u001b[0m\u001b[0;34m(\u001b[0m\u001b[0minput\u001b[0m\u001b[0;34m(\u001b[0m\u001b[0;34m\"litfen üçgenin c kenarını giriniz: \"\u001b[0m\u001b[0;34m)\u001b[0m\u001b[0;34m)\u001b[0m\u001b[0;34m\u001b[0m\u001b[0;34m\u001b[0m\u001b[0m\n\u001b[1;32m      4\u001b[0m \u001b[0;32mif\u001b[0m \u001b[0ma\u001b[0m\u001b[0;34m+\u001b[0m\u001b[0mb\u001b[0m\u001b[0;34m>\u001b[0m\u001b[0mc\u001b[0m \u001b[0;32mand\u001b[0m \u001b[0ma\u001b[0m\u001b[0;34m+\u001b[0m\u001b[0mc\u001b[0m\u001b[0;34m>\u001b[0m\u001b[0mb\u001b[0m \u001b[0;32mand\u001b[0m \u001b[0mb\u001b[0m\u001b[0;34m+\u001b[0m\u001b[0mc\u001b[0m\u001b[0;34m>\u001b[0m\u001b[0ma\u001b[0m\u001b[0;34m:\u001b[0m\u001b[0;34m\u001b[0m\u001b[0;34m\u001b[0m\u001b[0m\n\u001b[1;32m      5\u001b[0m   \u001b[0mprint\u001b[0m\u001b[0;34m(\u001b[0m\u001b[0;34m\"{}, {}, {} bu sayılar ile üçgen oluturalabilir\"\u001b[0m\u001b[0;34m.\u001b[0m\u001b[0mformat\u001b[0m\u001b[0;34m(\u001b[0m\u001b[0ma\u001b[0m\u001b[0;34m,\u001b[0m\u001b[0mb\u001b[0m\u001b[0;34m,\u001b[0m\u001b[0mc\u001b[0m\u001b[0;34m)\u001b[0m\u001b[0;34m)\u001b[0m\u001b[0;34m\u001b[0m\u001b[0;34m\u001b[0m\u001b[0m\n",
            "\u001b[0;31mValueError\u001b[0m: invalid literal for int() with base 10: 'a'"
          ]
        }
      ]
    },
    {
      "cell_type": "code",
      "metadata": {
        "id": "nRvssndbuunx"
      },
      "source": [
        ""
      ],
      "execution_count": null,
      "outputs": []
    },
    {
      "cell_type": "code",
      "metadata": {
        "id": "5Ba09v2HqcCT",
        "colab": {
          "base_uri": "https://localhost:8080/",
          "height": 128
        },
        "outputId": "87bee40b-41dc-4dd6-9699-9d7e3581b317"
      },
      "source": [
        "a= int(input(\"litfen üçgenin birinci kenarını giriniz: \"))\n",
        "b= int(input(\"litfen üçgenin ikinci kenarını giriniz: \"))\n",
        "c= int(input(\"litfen üçgenin üçüncü kenarını giriniz: \"))\n",
        "if a+b>c and a+c>b and b+c>a:\n",
        "  print(\"{}, {}, {} bu sayılar ile üçgen oluturalabilir\".format(a,b,c))\n",
        "  print(\"Üçgenin açılarını hesaplayacağım\")\n",
        "else:\n",
        "  print(\"{}, {}, {} bu sayılar ile üçgen oluturulaMAZ\".format(a,b,c))  \n",
        "import math \n",
        "print(math.cos(math.pi))\n",
        "A=(b**2 + c**2 - a**2)/(2*b*c)\n",
        "B=(a**2 + c**2 - b**2)/(2*a*c)\n",
        "C=(b**2 + a**2 - c**2)/(2*b*a)\n",
        "\n",
        "print(math.acos(A* 180/(math.pi))\n",
        "#print(math.acos(B))\n",
        "#print(math.acos(C))"
      ],
      "execution_count": null,
      "outputs": [
        {
          "output_type": "error",
          "ename": "SyntaxError",
          "evalue": "ignored",
          "traceback": [
            "\u001b[0;36m  File \u001b[0;32m\"<ipython-input-24-daf8e5b154a0>\"\u001b[0;36m, line \u001b[0;32m17\u001b[0m\n\u001b[0;31m    #print(math.acos(C))\u001b[0m\n\u001b[0m                        ^\u001b[0m\n\u001b[0;31mSyntaxError\u001b[0m\u001b[0;31m:\u001b[0m unexpected EOF while parsing\n"
          ]
        }
      ]
    },
    {
      "cell_type": "code",
      "metadata": {
        "id": "RYpoOjNeeO9b",
        "colab": {
          "base_uri": "https://localhost:8080/",
          "height": 296
        },
        "outputId": "edec1959-b0aa-43de-f134-cdc40bec3e22"
      },
      "source": [
        "a= int(input(\"litfen üçgenin birinci kenarını giriniz: \"))\n",
        "b= int(input(\"litfen üçgenin ikinci kenarını giriniz: \"))\n",
        "c= int(input(\"litfen üçgenin üçüncü kenarını giriniz: \"))\n",
        "if a+b>c and a+c>b and b+c>a:\n",
        "  print(\"{}, {}, {} bu sayılar ile üçgen oluturalabilir\".format(a,b,c))\n",
        "  print(\"Üçgenin açılarını hesaplayacağım\")\n",
        "else:\n",
        "  print(\"{}, {}, {} bu sayılar ile üçgen oluturulaMAZ\".format(a,b,c))  \n",
        "import math \n",
        "print(math.cos(math.pi))\n",
        "A=(b**2 + c**2 - a**2)/(2*b*c)\n",
        "B=(a**2 + c**2 - b**2)/(2*a*c)\n",
        "C=(b**2 + a**2 - c**2)/(2*b*a)\n",
        "\n",
        "print(math.acos(A* 180/(math.pi)))"
      ],
      "execution_count": null,
      "outputs": [
        {
          "output_type": "stream",
          "text": [
            "litfen üçgenin birinci kenarını giriniz: 3\n",
            "litfen üçgenin ikinci kenarını giriniz: 4\n",
            "litfen üçgenin üçüncü kenarını giriniz: 5\n",
            "3, 4, 5 bu sayılar ile üçgen oluturalabilir\n",
            "Üçgenin açılarını hesaplayacağım\n",
            "-1.0\n"
          ],
          "name": "stdout"
        },
        {
          "output_type": "error",
          "ename": "ValueError",
          "evalue": "ignored",
          "traceback": [
            "\u001b[0;31m---------------------------------------------------------------------------\u001b[0m",
            "\u001b[0;31mValueError\u001b[0m                                Traceback (most recent call last)",
            "\u001b[0;32m<ipython-input-31-45b56553b1a4>\u001b[0m in \u001b[0;36m<module>\u001b[0;34m()\u001b[0m\n\u001b[1;32m     13\u001b[0m \u001b[0mC\u001b[0m\u001b[0;34m=\u001b[0m\u001b[0;34m(\u001b[0m\u001b[0mb\u001b[0m\u001b[0;34m**\u001b[0m\u001b[0;36m2\u001b[0m \u001b[0;34m+\u001b[0m \u001b[0ma\u001b[0m\u001b[0;34m**\u001b[0m\u001b[0;36m2\u001b[0m \u001b[0;34m-\u001b[0m \u001b[0mc\u001b[0m\u001b[0;34m**\u001b[0m\u001b[0;36m2\u001b[0m\u001b[0;34m)\u001b[0m\u001b[0;34m/\u001b[0m\u001b[0;34m(\u001b[0m\u001b[0;36m2\u001b[0m\u001b[0;34m*\u001b[0m\u001b[0mb\u001b[0m\u001b[0;34m*\u001b[0m\u001b[0ma\u001b[0m\u001b[0;34m)\u001b[0m\u001b[0;34m\u001b[0m\u001b[0;34m\u001b[0m\u001b[0m\n\u001b[1;32m     14\u001b[0m \u001b[0;34m\u001b[0m\u001b[0m\n\u001b[0;32m---> 15\u001b[0;31m \u001b[0mprint\u001b[0m\u001b[0;34m(\u001b[0m\u001b[0mmath\u001b[0m\u001b[0;34m.\u001b[0m\u001b[0macos\u001b[0m\u001b[0;34m(\u001b[0m\u001b[0mA\u001b[0m\u001b[0;34m*\u001b[0m \u001b[0;36m180\u001b[0m\u001b[0;34m/\u001b[0m\u001b[0;34m(\u001b[0m\u001b[0mmath\u001b[0m\u001b[0;34m.\u001b[0m\u001b[0mpi\u001b[0m\u001b[0;34m)\u001b[0m\u001b[0;34m)\u001b[0m\u001b[0;34m)\u001b[0m\u001b[0;34m\u001b[0m\u001b[0;34m\u001b[0m\u001b[0m\n\u001b[0m",
            "\u001b[0;31mValueError\u001b[0m: math domain error"
          ]
        }
      ]
    }
  ]
}